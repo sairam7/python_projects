{
  "nbformat": 4,
  "nbformat_minor": 0,
  "metadata": {
    "colab": {
      "name": "Untitled6.ipynb",
      "provenance": [],
      "authorship_tag": "ABX9TyPZmcCvRYofQDAHX/MDrA0F",
      "include_colab_link": true
    },
    "kernelspec": {
      "name": "python3",
      "display_name": "Python 3"
    }
  },
  "cells": [
    {
      "cell_type": "markdown",
      "metadata": {
        "id": "view-in-github",
        "colab_type": "text"
      },
      "source": [
        "<a href=\"https://colab.research.google.com/github/sairam7/python_projects/blob/master/XGBoost_Classifier_implementation.ipynb\" target=\"_parent\"><img src=\"https://colab.research.google.com/assets/colab-badge.svg\" alt=\"Open In Colab\"/></a>"
      ]
    },
    {
      "cell_type": "code",
      "metadata": {
        "id": "V0lENix5gb-g",
        "colab_type": "code",
        "colab": {
          "base_uri": "https://localhost:8080/",
          "height": 68
        },
        "outputId": "253e095b-30d5-4d19-ccac-f6ddd589fe78"
      },
      "source": [
        "!pip install xgboost\n"
      ],
      "execution_count": 1,
      "outputs": [
        {
          "output_type": "stream",
          "text": [
            "Requirement already satisfied: xgboost in /usr/local/lib/python3.6/dist-packages (0.90)\n",
            "Requirement already satisfied: scipy in /usr/local/lib/python3.6/dist-packages (from xgboost) (1.4.1)\n",
            "Requirement already satisfied: numpy in /usr/local/lib/python3.6/dist-packages (from xgboost) (1.18.5)\n"
          ],
          "name": "stdout"
        }
      ]
    },
    {
      "cell_type": "code",
      "metadata": {
        "id": "80tgRoh-gylI",
        "colab_type": "code",
        "colab": {}
      },
      "source": [
        "from sklearn import datasets\n",
        "import xgboost as xgb\n",
        "\n",
        "iris = datasets.load_iris()\n",
        "X = iris.data\n",
        "y = iris.target"
      ],
      "execution_count": 0,
      "outputs": []
    },
    {
      "cell_type": "code",
      "metadata": {
        "id": "b6eYAk5hg6go",
        "colab_type": "code",
        "colab": {}
      },
      "source": [
        "from sklearn.model_selection import train_test_split\n",
        "\n",
        "X_train, X_test, Y_train, Y_test = train_test_split(X, y, test_size=0.2)"
      ],
      "execution_count": 0,
      "outputs": []
    },
    {
      "cell_type": "code",
      "metadata": {
        "id": "dlw7QOorg9PQ",
        "colab_type": "code",
        "colab": {}
      },
      "source": [
        "D_train = xgb.DMatrix(X_train, label=Y_train)\n",
        "D_test = xgb.DMatrix(X_test, label=Y_test)"
      ],
      "execution_count": 0,
      "outputs": []
    },
    {
      "cell_type": "code",
      "metadata": {
        "id": "vK_G2uy0hBwA",
        "colab_type": "code",
        "colab": {}
      },
      "source": [
        "param = {\n",
        "    'eta': 0.3, \n",
        "    'max_depth': 3,  \n",
        "    'objective': 'multi:softprob',  \n",
        "    'num_class': 3} \n",
        "\n",
        "steps = 20  # The number of training iterations"
      ],
      "execution_count": 0,
      "outputs": []
    },
    {
      "cell_type": "code",
      "metadata": {
        "id": "S9jida9Bh_x8",
        "colab_type": "code",
        "colab": {}
      },
      "source": [
        "model = xgb.train(param, D_train, steps)"
      ],
      "execution_count": 0,
      "outputs": []
    },
    {
      "cell_type": "code",
      "metadata": {
        "id": "ZCP8l0dGiGHo",
        "colab_type": "code",
        "colab": {
          "base_uri": "https://localhost:8080/",
          "height": 68
        },
        "outputId": "7999e011-62d6-4b21-9ba6-95f4fa6e4671"
      },
      "source": [
        "import numpy as np\n",
        "from sklearn.metrics import precision_score, recall_score, accuracy_score\n",
        "\n",
        "preds = model.predict(D_test)\n",
        "best_preds = np.asarray([np.argmax(line) for line in preds])\n",
        "\n",
        "print(\"Precision = {}\".format(precision_score(Y_test, best_preds, average='macro')))\n",
        "print(\"Recall = {}\".format(recall_score(Y_test, best_preds, average='macro')))\n",
        "print(\"Accuracy = {}\".format(accuracy_score(Y_test, best_preds)))"
      ],
      "execution_count": 7,
      "outputs": [
        {
          "output_type": "stream",
          "text": [
            "Precision = 0.9743589743589745\n",
            "Recall = 0.9523809523809524\n",
            "Accuracy = 0.9666666666666667\n"
          ],
          "name": "stdout"
        }
      ]
    },
    {
      "cell_type": "code",
      "metadata": {
        "id": "O07jRa2biPWw",
        "colab_type": "code",
        "colab": {
          "base_uri": "https://localhost:8080/",
          "height": 34
        },
        "outputId": "e2e3c875-4ea9-4b13-b6f4-6c9f6f670d87"
      },
      "source": [
        "print(preds[0])"
      ],
      "execution_count": 9,
      "outputs": [
        {
          "output_type": "stream",
          "text": [
            "[0.00773756 0.01917275 0.97308964]\n"
          ],
          "name": "stdout"
        }
      ]
    },
    {
      "cell_type": "code",
      "metadata": {
        "id": "ec9cerNWji-E",
        "colab_type": "code",
        "colab": {
          "base_uri": "https://localhost:8080/",
          "height": 34
        },
        "outputId": "ad3b2cc7-ec14-4593-fb4d-6376781de109"
      },
      "source": [
        "print(np.argmax(preds[0]))"
      ],
      "execution_count": 10,
      "outputs": [
        {
          "output_type": "stream",
          "text": [
            "2\n"
          ],
          "name": "stdout"
        }
      ]
    },
    {
      "cell_type": "code",
      "metadata": {
        "id": "BTRR39thkCIw",
        "colab_type": "code",
        "colab": {
          "base_uri": "https://localhost:8080/",
          "height": 34
        },
        "outputId": "b9dcc60c-8f74-4aa4-8d4d-2671b5dc9732"
      },
      "source": [
        "print(best_preds)"
      ],
      "execution_count": 11,
      "outputs": [
        {
          "output_type": "stream",
          "text": [
            "[2 0 1 2 0 2 1 1 0 2 2 0 2 1 0 1 0 2 2 1 0 0 0 2 0 2 2 2 2 0]\n"
          ],
          "name": "stdout"
        }
      ]
    },
    {
      "cell_type": "code",
      "metadata": {
        "id": "FMb1tmREkLfR",
        "colab_type": "code",
        "colab": {
          "base_uri": "https://localhost:8080/",
          "height": 34
        },
        "outputId": "7b59f076-ef9e-45cc-a5c2-f4365d471724"
      },
      "source": [
        "print(X_train[0],Y_train[0])"
      ],
      "execution_count": 16,
      "outputs": [
        {
          "output_type": "stream",
          "text": [
            "[6.2 2.2 4.5 1.5] 1\n"
          ],
          "name": "stdout"
        }
      ]
    },
    {
      "cell_type": "code",
      "metadata": {
        "id": "5AmUNJL9kcjT",
        "colab_type": "code",
        "colab": {
          "base_uri": "https://localhost:8080/",
          "height": 34
        },
        "outputId": "4eadcf34-cdf1-47a4-da21-f9199196d302"
      },
      "source": [
        "print(D_train)"
      ],
      "execution_count": 15,
      "outputs": [
        {
          "output_type": "stream",
          "text": [
            "<xgboost.core.DMatrix object at 0x7f8be517e710>\n"
          ],
          "name": "stdout"
        }
      ]
    },
    {
      "cell_type": "code",
      "metadata": {
        "id": "OalWu2pTknG7",
        "colab_type": "code",
        "colab": {}
      },
      "source": [
        "model.dump_model('dump.raw.txt')"
      ],
      "execution_count": 0,
      "outputs": []
    },
    {
      "cell_type": "code",
      "metadata": {
        "id": "og47hGZUpCCT",
        "colab_type": "code",
        "colab": {
          "base_uri": "https://localhost:8080/",
          "height": 34
        },
        "outputId": "d5c5e39c-2858-4f41-daae-38ebfea125ba"
      },
      "source": [
        "!ls\n"
      ],
      "execution_count": 18,
      "outputs": [
        {
          "output_type": "stream",
          "text": [
            "dump.raw.txt  sample_data\n"
          ],
          "name": "stdout"
        }
      ]
    },
    {
      "cell_type": "code",
      "metadata": {
        "id": "8hA7g_n9pDow",
        "colab_type": "code",
        "colab": {
          "base_uri": "https://localhost:8080/",
          "height": 1000
        },
        "outputId": "9c595245-5b18-477a-e164-269b8c8dc80a"
      },
      "source": [
        "!cat dump.raw.txt"
      ],
      "execution_count": 20,
      "outputs": [
        {
          "output_type": "stream",
          "text": [
            "booster[0]:\n",
            "0:[f2<2.45000005] yes=1,no=2,missing=1\n",
            "\t1:leaf=0.425454557\n",
            "\t2:leaf=-0.218918934\n",
            "booster[1]:\n",
            "0:[f2<2.45000005] yes=1,no=2,missing=1\n",
            "\t1:leaf=-0.212727293\n",
            "\t2:[f3<1.75] yes=3,no=4,missing=3\n",
            "\t\t3:[f2<4.94999981] yes=5,no=6,missing=5\n",
            "\t\t\t5:leaf=0.4118644\n",
            "\t\t\t6:leaf=-0.0620689802\n",
            "\t\t4:[f2<4.85000038] yes=7,no=8,missing=7\n",
            "\t\t\t7:leaf=-7.66345476e-09\n",
            "\t\t\t8:leaf=-0.209774464\n",
            "booster[2]:\n",
            "0:[f2<4.75] yes=1,no=2,missing=1\n",
            "\t1:[f3<1.54999995] yes=3,no=4,missing=3\n",
            "\t\t3:leaf=-0.218446627\n",
            "\t\t4:leaf=-7.66345476e-09\n",
            "\t2:[f3<1.75] yes=5,no=6,missing=5\n",
            "\t\t5:[f2<4.94999981] yes=7,no=8,missing=7\n",
            "\t\t\t7:leaf=-0.128571451\n",
            "\t\t\t8:leaf=0.217241377\n",
            "\t\t6:[f2<4.85000038] yes=9,no=10,missing=9\n",
            "\t\t\t9:leaf=0.128571421\n",
            "\t\t\t10:leaf=0.419548899\n",
            "booster[3]:\n",
            "0:[f2<2.45000005] yes=1,no=2,missing=1\n",
            "\t1:leaf=0.292988449\n",
            "\t2:leaf=-0.195771977\n",
            "booster[4]:\n",
            "0:[f2<2.45000005] yes=1,no=2,missing=1\n",
            "\t1:leaf=-0.189252526\n",
            "\t2:[f3<1.75] yes=3,no=4,missing=3\n",
            "\t\t3:[f2<5.05000019] yes=5,no=6,missing=5\n",
            "\t\t\t5:leaf=0.277911276\n",
            "\t\t\t6:leaf=-0.123482101\n",
            "\t\t4:[f2<4.85000038] yes=7,no=8,missing=7\n",
            "\t\t\t7:leaf=-0.00258299569\n",
            "\t\t\t8:leaf=-0.186615378\n",
            "booster[5]:\n",
            "0:[f2<4.75] yes=1,no=2,missing=1\n",
            "\t1:[f3<1.54999995] yes=3,no=4,missing=3\n",
            "\t\t3:leaf=-0.195015803\n",
            "\t\t4:leaf=0.0125173675\n",
            "\t2:[f2<5.05000019] yes=5,no=6,missing=5\n",
            "\t\t5:[f0<6.5] yes=7,no=8,missing=7\n",
            "\t\t\t7:leaf=0.181335121\n",
            "\t\t\t8:leaf=-0.127010629\n",
            "\t\t6:leaf=0.294457018\n",
            "booster[6]:\n",
            "0:[f2<2.45000005] yes=1,no=2,missing=1\n",
            "\t1:leaf=0.234676376\n",
            "\t2:leaf=-0.180269867\n",
            "booster[7]:\n",
            "0:[f2<2.45000005] yes=1,no=2,missing=1\n",
            "\t1:leaf=-0.173016399\n",
            "\t2:[f3<1.6500001] yes=3,no=4,missing=3\n",
            "\t\t3:[f2<4.94999981] yes=5,no=6,missing=5\n",
            "\t\t\t5:leaf=0.239814416\n",
            "\t\t\t6:leaf=-0.13187322\n",
            "\t\t4:[f2<5.05000019] yes=7,no=8,missing=7\n",
            "\t\t\t7:leaf=-0.0516562909\n",
            "\t\t\t8:leaf=-0.167858496\n",
            "booster[8]:\n",
            "0:[f2<4.75] yes=1,no=2,missing=1\n",
            "\t1:[f3<1.54999995] yes=3,no=4,missing=3\n",
            "\t\t3:leaf=-0.179364309\n",
            "\t\t4:leaf=0.0233861357\n",
            "\t2:[f2<5.05000019] yes=5,no=6,missing=5\n",
            "\t\t5:[f0<6.5] yes=7,no=8,missing=7\n",
            "\t\t\t7:leaf=0.146823391\n",
            "\t\t\t8:leaf=-0.113320865\n",
            "\t\t6:leaf=0.23534368\n",
            "booster[9]:\n",
            "0:[f2<2.45000005] yes=1,no=2,missing=1\n",
            "\t1:leaf=0.20218192\n",
            "\t2:leaf=-0.169144973\n",
            "booster[10]:\n",
            "0:[f2<2.45000005] yes=1,no=2,missing=1\n",
            "\t1:leaf=-0.160804987\n",
            "\t2:[f3<1.6500001] yes=3,no=4,missing=3\n",
            "\t\t3:[f2<4.94999981] yes=5,no=6,missing=5\n",
            "\t\t\t5:leaf=0.206655219\n",
            "\t\t\t6:leaf=-0.118499957\n",
            "\t\t4:[f2<5.05000019] yes=7,no=8,missing=7\n",
            "\t\t\t7:leaf=-0.0449342839\n",
            "\t\t\t8:leaf=-0.15510872\n",
            "booster[11]:\n",
            "0:[f2<4.75] yes=1,no=2,missing=1\n",
            "\t1:[f3<1.54999995] yes=3,no=4,missing=3\n",
            "\t\t3:leaf=-0.167808369\n",
            "\t\t4:leaf=0.0275302213\n",
            "\t2:[f2<5.05000019] yes=5,no=6,missing=5\n",
            "\t\t5:[f0<6.5] yes=7,no=8,missing=7\n",
            "\t\t\t7:leaf=0.120388076\n",
            "\t\t\t8:leaf=-0.105915643\n",
            "\t\t6:leaf=0.20210208\n",
            "booster[12]:\n",
            "0:[f2<2.45000005] yes=1,no=2,missing=1\n",
            "\t1:leaf=0.181558982\n",
            "\t2:leaf=-0.160704866\n",
            "booster[13]:\n",
            "0:[f2<2.45000005] yes=1,no=2,missing=1\n",
            "\t1:leaf=-0.150900319\n",
            "\t2:[f3<1.6500001] yes=3,no=4,missing=3\n",
            "\t\t3:[f2<4.94999981] yes=5,no=6,missing=5\n",
            "\t\t\t5:leaf=0.185913742\n",
            "\t\t\t6:leaf=-0.106954299\n",
            "\t\t4:[f2<5.05000019] yes=7,no=8,missing=7\n",
            "\t\t\t7:leaf=-0.0387122296\n",
            "\t\t\t8:leaf=-0.144490406\n",
            "booster[14]:\n",
            "0:[f3<1.6500001] yes=1,no=2,missing=1\n",
            "\t1:[f2<4.94999981] yes=3,no=4,missing=3\n",
            "\t\t3:leaf=-0.161919057\n",
            "\t\t4:leaf=0.144705623\n",
            "\t2:leaf=0.165959224\n",
            "booster[15]:\n",
            "0:[f2<2.45000005] yes=1,no=2,missing=1\n",
            "\t1:leaf=0.167081594\n",
            "\t2:leaf=-0.153715074\n",
            "booster[16]:\n",
            "0:[f2<2.45000005] yes=1,no=2,missing=1\n",
            "\t1:leaf=-0.14226003\n",
            "\t2:[f2<5.05000019] yes=3,no=4,missing=3\n",
            "\t\t3:[f3<1.6500001] yes=5,no=6,missing=5\n",
            "\t\t\t5:leaf=0.160252362\n",
            "\t\t\t6:leaf=-0.0242029279\n",
            "\t\t4:leaf=-0.140269503\n",
            "booster[17]:\n",
            "0:[f3<1.6500001] yes=1,no=2,missing=1\n",
            "\t1:[f2<4.94999981] yes=3,no=4,missing=3\n",
            "\t\t3:leaf=-0.154279262\n",
            "\t\t4:leaf=0.128114164\n",
            "\t2:[f1<3.1500001] yes=5,no=6,missing=5\n",
            "\t\t5:leaf=0.16156818\n",
            "\t\t6:[f0<6.4000001] yes=7,no=8,missing=7\n",
            "\t\t\t7:leaf=-0.0385142714\n",
            "\t\t\t8:leaf=0.123186268\n",
            "booster[18]:\n",
            "0:[f2<2.45000005] yes=1,no=2,missing=1\n",
            "\t1:leaf=0.156062976\n",
            "\t2:leaf=-0.147790521\n",
            "booster[19]:\n",
            "0:[f2<2.45000005] yes=1,no=2,missing=1\n",
            "\t1:leaf=-0.134205163\n",
            "\t2:[f2<5.05000019] yes=3,no=4,missing=3\n",
            "\t\t3:[f3<1.6500001] yes=5,no=6,missing=5\n",
            "\t\t\t5:leaf=0.146689922\n",
            "\t\t\t6:leaf=-0.0119385095\n",
            "\t\t4:leaf=-0.132411256\n",
            "booster[20]:\n",
            "0:[f2<4.85000038] yes=1,no=2,missing=1\n",
            "\t1:[f3<1.6500001] yes=3,no=4,missing=3\n",
            "\t\t3:leaf=-0.146604285\n",
            "\t\t4:leaf=0.0636224747\n",
            "\t2:[f3<1.75] yes=5,no=6,missing=5\n",
            "\t\t5:[f1<2.69999981] yes=7,no=8,missing=7\n",
            "\t\t\t7:leaf=0.0541276187\n",
            "\t\t\t8:leaf=-0.0201811027\n",
            "\t\t6:leaf=0.157778651\n",
            "booster[21]:\n",
            "0:[f2<2.45000005] yes=1,no=2,missing=1\n",
            "\t1:leaf=0.146982685\n",
            "\t2:leaf=-0.142290249\n",
            "booster[22]:\n",
            "0:[f2<2.45000005] yes=1,no=2,missing=1\n",
            "\t1:leaf=-0.12632744\n",
            "\t2:[f2<5.05000019] yes=3,no=4,missing=3\n",
            "\t\t3:[f3<1.6500001] yes=5,no=6,missing=5\n",
            "\t\t\t5:leaf=0.13473773\n",
            "\t\t\t6:leaf=-0.00512211351\n",
            "\t\t4:leaf=-0.1247079\n",
            "booster[23]:\n",
            "0:[f2<4.85000038] yes=1,no=2,missing=1\n",
            "\t1:[f3<1.6500001] yes=3,no=4,missing=3\n",
            "\t\t3:leaf=-0.140540287\n",
            "\t\t4:leaf=0.0540870465\n",
            "\t2:[f3<1.75] yes=5,no=6,missing=5\n",
            "\t\t5:[f1<2.69999981] yes=7,no=8,missing=7\n",
            "\t\t\t7:leaf=0.053519018\n",
            "\t\t\t8:leaf=-0.0249308608\n",
            "\t\t6:leaf=0.148203701\n",
            "booster[24]:\n",
            "0:[f2<2.45000005] yes=1,no=2,missing=1\n",
            "\t1:leaf=0.13892594\n",
            "\t2:leaf=-0.136950627\n",
            "booster[25]:\n",
            "0:[f2<2.45000005] yes=1,no=2,missing=1\n",
            "\t1:leaf=-0.118415385\n",
            "\t2:[f2<5.05000019] yes=3,no=4,missing=3\n",
            "\t\t3:[f1<2.8499999] yes=5,no=6,missing=5\n",
            "\t\t\t5:leaf=0.028130753\n",
            "\t\t\t6:leaf=0.147642255\n",
            "\t\t4:leaf=-0.117215425\n",
            "booster[26]:\n",
            "0:[f2<4.85000038] yes=1,no=2,missing=1\n",
            "\t1:[f3<1.6500001] yes=3,no=4,missing=3\n",
            "\t\t3:leaf=-0.134555638\n",
            "\t\t4:leaf=0.0463385992\n",
            "\t2:[f3<1.75] yes=5,no=6,missing=5\n",
            "\t\t5:leaf=0.0135812638\n",
            "\t\t6:leaf=0.139869571\n",
            "booster[27]:\n",
            "0:[f2<2.45000005] yes=1,no=2,missing=1\n",
            "\t1:leaf=0.131365284\n",
            "\t2:leaf=-0.13185285\n",
            "booster[28]:\n",
            "0:[f2<2.45000005] yes=1,no=2,missing=1\n",
            "\t1:leaf=-0.110408597\n",
            "\t2:[f2<5.05000019] yes=3,no=4,missing=3\n",
            "\t\t3:[f1<2.8499999] yes=5,no=6,missing=5\n",
            "\t\t\t5:leaf=0.0187473334\n",
            "\t\t\t6:leaf=0.136755854\n",
            "\t\t4:leaf=-0.109742545\n",
            "booster[29]:\n",
            "0:[f3<1.45000005] yes=1,no=2,missing=1\n",
            "\t1:leaf=-0.11387258\n",
            "\t2:[f1<3.1500001] yes=3,no=4,missing=3\n",
            "\t\t3:[f3<1.75] yes=5,no=6,missing=5\n",
            "\t\t\t5:leaf=0.0293231513\n",
            "\t\t\t6:leaf=0.138327003\n",
            "\t\t4:leaf=-0.0186529048\n",
            "booster[30]:\n",
            "0:[f2<2.45000005] yes=1,no=2,missing=1\n",
            "\t1:leaf=0.124217324\n",
            "\t2:leaf=-0.127057582\n",
            "booster[31]:\n",
            "0:[f2<5.05000019] yes=1,no=2,missing=1\n",
            "\t1:[f0<5.44999981] yes=3,no=4,missing=3\n",
            "\t\t3:[f2<2.45000005] yes=5,no=6,missing=5\n",
            "\t\t\t5:leaf=-0.0995666087\n",
            "\t\t\t6:leaf=-0.0254865326\n",
            "\t\t4:[f3<1.75] yes=7,no=8,missing=7\n",
            "\t\t\t7:leaf=0.112669304\n",
            "\t\t\t8:leaf=-0.0124374498\n",
            "\t2:leaf=-0.104038037\n",
            "booster[32]:\n",
            "0:[f3<1.3499999] yes=1,no=2,missing=1\n",
            "\t1:leaf=-0.11796388\n",
            "\t2:[f2<5.05000019] yes=3,no=4,missing=3\n",
            "\t\t3:[f1<2.8499999] yes=5,no=6,missing=5\n",
            "\t\t\t5:leaf=0.11042317\n",
            "\t\t\t6:leaf=-0.0948100016\n",
            "\t\t4:leaf=0.125369251\n",
            "booster[33]:\n",
            "0:[f2<2.45000005] yes=1,no=2,missing=1\n",
            "\t1:leaf=0.117355302\n",
            "\t2:leaf=-0.12145175\n",
            "booster[34]:\n",
            "0:[f0<5.35000038] yes=1,no=2,missing=1\n",
            "\t1:leaf=-0.0838195682\n",
            "\t2:[f2<4.85000038] yes=3,no=4,missing=3\n",
            "\t\t3:[f0<5.94999981] yes=5,no=6,missing=5\n",
            "\t\t\t5:leaf=0.124257959\n",
            "\t\t\t6:leaf=0.0339895152\n",
            "\t\t4:[f3<1.75] yes=7,no=8,missing=7\n",
            "\t\t\t7:leaf=0.0205405802\n",
            "\t\t\t8:leaf=-0.10313677\n",
            "booster[35]:\n",
            "0:[f3<1.45000005] yes=1,no=2,missing=1\n",
            "\t1:leaf=-0.101431943\n",
            "\t2:[f1<3.1500001] yes=3,no=4,missing=3\n",
            "\t\t3:[f0<6.5999999] yes=5,no=6,missing=5\n",
            "\t\t\t5:leaf=0.122584298\n",
            "\t\t\t6:leaf=0.00573212467\n",
            "\t\t4:leaf=-0.0323200896\n",
            "booster[36]:\n",
            "0:[f2<2.45000005] yes=1,no=2,missing=1\n",
            "\t1:leaf=0.111258157\n",
            "\t2:leaf=-0.116786532\n",
            "booster[37]:\n",
            "0:[f2<5.05000019] yes=1,no=2,missing=1\n",
            "\t1:[f0<5.44999981] yes=3,no=4,missing=3\n",
            "\t\t3:[f0<4.94999981] yes=5,no=6,missing=5\n",
            "\t\t\t5:leaf=-0.0872004256\n",
            "\t\t\t6:leaf=-0.0220812149\n",
            "\t\t4:[f3<1.75] yes=7,no=8,missing=7\n",
            "\t\t\t7:leaf=0.0987525061\n",
            "\t\t\t8:leaf=-0.00679609412\n",
            "\t2:leaf=-0.0926981866\n",
            "booster[38]:\n",
            "0:[f2<5.05000019] yes=1,no=2,missing=1\n",
            "\t1:[f1<2.8499999] yes=3,no=4,missing=3\n",
            "\t\t3:[f3<1.60000002] yes=5,no=6,missing=5\n",
            "\t\t\t5:leaf=-0.0393299162\n",
            "\t\t\t6:leaf=0.11646834\n",
            "\t\t4:[f1<3.04999995] yes=7,no=8,missing=7\n",
            "\t\t\t7:leaf=-0.0353876166\n",
            "\t\t\t8:leaf=-0.136354119\n",
            "\t2:leaf=0.11375051\n",
            "booster[39]:\n",
            "0:[f2<2.45000005] yes=1,no=2,missing=1\n",
            "\t1:leaf=0.105078228\n",
            "\t2:leaf=-0.110998429\n",
            "booster[40]:\n",
            "0:[f2<5.05000019] yes=1,no=2,missing=1\n",
            "\t1:[f0<5.44999981] yes=3,no=4,missing=3\n",
            "\t\t3:leaf=-0.0644641891\n",
            "\t\t4:[f3<1.75] yes=5,no=6,missing=5\n",
            "\t\t\t5:leaf=0.0877303779\n",
            "\t\t\t6:leaf=-0.00715087028\n",
            "\t2:leaf=-0.0850060135\n",
            "booster[41]:\n",
            "0:[f3<1.3499999] yes=1,no=2,missing=1\n",
            "\t1:leaf=-0.0993497446\n",
            "\t2:[f1<3.1500001] yes=3,no=4,missing=3\n",
            "\t\t3:[f0<6.25] yes=5,no=6,missing=5\n",
            "\t\t\t5:leaf=0.121049762\n",
            "\t\t\t6:leaf=0.00215921248\n",
            "\t\t4:leaf=-0.0406378321\n",
            "booster[42]:\n",
            "0:[f2<2.45000005] yes=1,no=2,missing=1\n",
            "\t1:leaf=0.0989939645\n",
            "\t2:leaf=-0.106204093\n",
            "booster[43]:\n",
            "0:[f2<5.05000019] yes=1,no=2,missing=1\n",
            "\t1:[f2<2.45000005] yes=3,no=4,missing=3\n",
            "\t\t3:leaf=-0.0784067661\n",
            "\t\t4:[f1<2.8499999] yes=5,no=6,missing=5\n",
            "\t\t\t5:leaf=-0.00497945491\n",
            "\t\t\t6:leaf=0.104090162\n",
            "\t2:leaf=-0.0815209448\n",
            "booster[44]:\n",
            "0:[f2<4.85000038] yes=1,no=2,missing=1\n",
            "\t1:[f1<3.04999995] yes=3,no=4,missing=3\n",
            "\t\t3:[f3<1.60000002] yes=7,no=8,missing=7\n",
            "\t\t\t7:leaf=-0.0865046605\n",
            "\t\t\t8:leaf=0.107089326\n",
            "\t\t4:leaf=-0.127129287\n",
            "\t2:[f3<1.75] yes=5,no=6,missing=5\n",
            "\t\t5:leaf=0.00408224715\n",
            "\t\t6:leaf=0.105434969\n",
            "booster[45]:\n",
            "0:[f2<2.45000005] yes=1,no=2,missing=1\n",
            "\t1:leaf=0.0918792337\n",
            "\t2:leaf=-0.100743249\n",
            "booster[46]:\n",
            "0:[f2<4.94999981] yes=1,no=2,missing=1\n",
            "\t1:[f0<5.44999981] yes=3,no=4,missing=3\n",
            "\t\t3:leaf=-0.0525420569\n",
            "\t\t4:[f3<1.70000005] yes=5,no=6,missing=5\n",
            "\t\t\t5:leaf=0.0937853903\n",
            "\t\t\t6:leaf=0.00082027883\n",
            "\t2:leaf=-0.0505590029\n",
            "booster[47]:\n",
            "0:[f2<5.05000019] yes=1,no=2,missing=1\n",
            "\t1:[f1<2.8499999] yes=3,no=4,missing=3\n",
            "\t\t3:[f3<1.60000002] yes=5,no=6,missing=5\n",
            "\t\t\t5:leaf=-0.0226182379\n",
            "\t\t\t6:leaf=0.0942297727\n",
            "\t\t4:[f0<5.94999981] yes=7,no=8,missing=7\n",
            "\t\t\t7:leaf=-0.118531942\n",
            "\t\t\t8:leaf=-0.0231618769\n",
            "\t2:leaf=0.0960414633\n",
            "booster[48]:\n",
            "0:[f2<2.45000005] yes=1,no=2,missing=1\n",
            "\t1:leaf=0.0860407352\n",
            "\t2:leaf=-0.0951201543\n",
            "booster[49]:\n",
            "0:[f2<4.94999981] yes=1,no=2,missing=1\n",
            "\t1:[f0<5.44999981] yes=3,no=4,missing=3\n",
            "\t\t3:leaf=-0.0460776314\n",
            "\t\t4:[f3<1.70000005] yes=5,no=6,missing=5\n",
            "\t\t\t5:leaf=0.0876343101\n",
            "\t\t\t6:leaf=-0.00145240338\n",
            "\t2:leaf=-0.0443426594\n",
            "booster[50]:\n",
            "0:[f2<5.05000019] yes=1,no=2,missing=1\n",
            "\t1:[f1<2.8499999] yes=3,no=4,missing=3\n",
            "\t\t3:[f2<4.6500001] yes=5,no=6,missing=5\n",
            "\t\t\t5:leaf=-0.00612746598\n",
            "\t\t\t6:leaf=0.0614750646\n",
            "\t\t4:[f0<5.94999981] yes=7,no=8,missing=7\n",
            "\t\t\t7:leaf=-0.11244154\n",
            "\t\t\t8:leaf=-0.0210288931\n",
            "\t2:leaf=0.0897436664\n",
            "booster[51]:\n",
            "0:[f2<2.45000005] yes=1,no=2,missing=1\n",
            "\t1:leaf=0.0806787163\n",
            "\t2:leaf=-0.0897881016\n",
            "booster[52]:\n",
            "0:[f0<5.35000038] yes=1,no=2,missing=1\n",
            "\t1:leaf=-0.0447609387\n",
            "\t2:[f2<4.85000038] yes=3,no=4,missing=3\n",
            "\t\t3:[f0<5.94999981] yes=5,no=6,missing=5\n",
            "\t\t\t5:leaf=0.092564486\n",
            "\t\t\t6:leaf=-0.000281407818\n",
            "\t\t4:[f0<6.35000038] yes=7,no=8,missing=7\n",
            "\t\t\t7:leaf=-0.0647261888\n",
            "\t\t\t8:leaf=0.0221398417\n",
            "booster[53]:\n",
            "0:[f3<1.45000005] yes=1,no=2,missing=1\n",
            "\t1:leaf=-0.072425656\n",
            "\t2:[f1<3.04999995] yes=3,no=4,missing=3\n",
            "\t\t3:[f0<6.25] yes=5,no=6,missing=5\n",
            "\t\t\t5:leaf=0.110625394\n",
            "\t\t\t6:leaf=-0.0192972682\n",
            "\t\t4:leaf=-0.038231235\n",
            "booster[54]:\n",
            "0:[f2<2.45000005] yes=1,no=2,missing=1\n",
            "\t1:leaf=0.0764648542\n",
            "\t2:leaf=-0.0859314725\n",
            "booster[55]:\n",
            "0:[f3<1.75] yes=1,no=2,missing=1\n",
            "\t1:[f0<6.14999962] yes=3,no=4,missing=3\n",
            "\t\t3:[f3<1.3499999] yes=5,no=6,missing=5\n",
            "\t\t\t5:leaf=0.0135720354\n",
            "\t\t\t6:leaf=-0.0567997396\n",
            "\t\t4:leaf=0.0870130882\n",
            "\t2:leaf=-0.0336207151\n",
            "booster[56]:\n",
            "0:[f2<5.05000019] yes=1,no=2,missing=1\n",
            "\t1:[f1<2.8499999] yes=3,no=4,missing=3\n",
            "\t\t3:leaf=0.0303297359\n",
            "\t\t4:[f3<1.75] yes=5,no=6,missing=5\n",
            "\t\t\t5:leaf=-0.0976710916\n",
            "\t\t\t6:leaf=-0.0160784367\n",
            "\t2:leaf=0.0833608955\n",
            "booster[57]:\n",
            "0:[f2<3.4000001] yes=1,no=2,missing=1\n",
            "\t1:leaf=0.0617020205\n",
            "\t2:leaf=-0.0778581128\n",
            "booster[58]:\n",
            "0:[f2<4.94999981] yes=1,no=2,missing=1\n",
            "\t1:[f0<5.44999981] yes=3,no=4,missing=3\n",
            "\t\t3:leaf=-0.0348928198\n",
            "\t\t4:[f0<5.94999981] yes=5,no=6,missing=5\n",
            "\t\t\t5:leaf=0.0840527713\n",
            "\t\t\t6:leaf=0.00304958806\n",
            "\t2:leaf=-0.0355703346\n",
            "booster[59]:\n",
            "0:[f2<5.05000019] yes=1,no=2,missing=1\n",
            "\t1:[f1<2.8499999] yes=3,no=4,missing=3\n",
            "\t\t3:leaf=0.0267412271\n",
            "\t\t4:leaf=-0.0729611069\n",
            "\t2:leaf=0.0786766931\n"
          ],
          "name": "stdout"
        }
      ]
    },
    {
      "cell_type": "code",
      "metadata": {
        "id": "UVynRsvOpHho",
        "colab_type": "code",
        "colab": {}
      },
      "source": [
        ""
      ],
      "execution_count": 0,
      "outputs": []
    }
  ]
}